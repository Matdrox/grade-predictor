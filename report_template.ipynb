{
 "cells": [
  {
   "attachments": {},
   "cell_type": "markdown",
   "metadata": {},
   "source": [
    "# DM1590 Final Project: Student Grade Prediction Model\n",
    "\n",
    "# Authors\n",
    "Linus Bälter, Matei Cananau, Alexander Diez Gonzalez, David Tanudin"
   ]
  },
  {
   "cell_type": "markdown",
   "metadata": {},
   "source": [
    "### Background and motivation\n",
    "\n",
    "Describe your problem and why it is interesting and important."
   ]
  },
  {
   "cell_type": "markdown",
   "metadata": {},
   "source": [
    "### Dataset\n",
    "\n",
    "Describe what dataset you are using."
   ]
  },
  {
   "cell_type": "markdown",
   "metadata": {},
   "source": [
    "### Methodology\n",
    "\n",
    "Describe what you are doing and how you are doing it."
   ]
  },
  {
   "cell_type": "markdown",
   "metadata": {},
   "source": [
    "---"
   ]
  },
  {
   "cell_type": "code",
   "execution_count": 51,
   "metadata": {},
   "outputs": [],
   "source": [
    "# Present your work step-by-step with descriptions along the way, like in the laboratories.\n",
    "\n",
    "# Import necessary libraries\n",
    "import numpy as np\n",
    "import pandas as pd\n",
    "import matplotlib.pyplot as plt\n",
    "import seaborn as sns\n",
    "\n",
    "from sklearn.model_selection import train_test_split\n",
    "from sklearn.naive_bayes import CategoricalNB, GaussianNB\n",
    "from sklearn.preprocessing import LabelEncoder\n",
    "from sklearn.feature_selection import SelectKBest\n",
    "from sklearn.feature_selection import chi2, f_regression\n",
    "from sklearn.metrics import f1_score\n"
   ]
  },
  {
   "cell_type": "code",
   "execution_count": 52,
   "metadata": {},
   "outputs": [
    {
     "data": {
      "text/html": [
       "<div>\n",
       "<style scoped>\n",
       "    .dataframe tbody tr th:only-of-type {\n",
       "        vertical-align: middle;\n",
       "    }\n",
       "\n",
       "    .dataframe tbody tr th {\n",
       "        vertical-align: top;\n",
       "    }\n",
       "\n",
       "    .dataframe thead th {\n",
       "        text-align: right;\n",
       "    }\n",
       "</style>\n",
       "<table border=\"1\" class=\"dataframe\">\n",
       "  <thead>\n",
       "    <tr style=\"text-align: right;\">\n",
       "      <th></th>\n",
       "      <th>school</th>\n",
       "      <th>sex</th>\n",
       "      <th>age</th>\n",
       "      <th>address</th>\n",
       "      <th>famsize</th>\n",
       "      <th>Pstatus</th>\n",
       "      <th>Medu</th>\n",
       "      <th>Fedu</th>\n",
       "      <th>Mjob</th>\n",
       "      <th>Fjob</th>\n",
       "      <th>...</th>\n",
       "      <th>famrel</th>\n",
       "      <th>freetime</th>\n",
       "      <th>goout</th>\n",
       "      <th>Dalc</th>\n",
       "      <th>Walc</th>\n",
       "      <th>health</th>\n",
       "      <th>absences</th>\n",
       "      <th>G1</th>\n",
       "      <th>G2</th>\n",
       "      <th>G3</th>\n",
       "    </tr>\n",
       "  </thead>\n",
       "  <tbody>\n",
       "    <tr>\n",
       "      <th>0</th>\n",
       "      <td>GP</td>\n",
       "      <td>F</td>\n",
       "      <td>18</td>\n",
       "      <td>U</td>\n",
       "      <td>GT3</td>\n",
       "      <td>A</td>\n",
       "      <td>4</td>\n",
       "      <td>4</td>\n",
       "      <td>at_home</td>\n",
       "      <td>teacher</td>\n",
       "      <td>...</td>\n",
       "      <td>4</td>\n",
       "      <td>3</td>\n",
       "      <td>4</td>\n",
       "      <td>1</td>\n",
       "      <td>1</td>\n",
       "      <td>3</td>\n",
       "      <td>4</td>\n",
       "      <td>0</td>\n",
       "      <td>11</td>\n",
       "      <td>11</td>\n",
       "    </tr>\n",
       "    <tr>\n",
       "      <th>1</th>\n",
       "      <td>GP</td>\n",
       "      <td>F</td>\n",
       "      <td>17</td>\n",
       "      <td>U</td>\n",
       "      <td>GT3</td>\n",
       "      <td>T</td>\n",
       "      <td>1</td>\n",
       "      <td>1</td>\n",
       "      <td>at_home</td>\n",
       "      <td>other</td>\n",
       "      <td>...</td>\n",
       "      <td>5</td>\n",
       "      <td>3</td>\n",
       "      <td>3</td>\n",
       "      <td>1</td>\n",
       "      <td>1</td>\n",
       "      <td>3</td>\n",
       "      <td>2</td>\n",
       "      <td>9</td>\n",
       "      <td>11</td>\n",
       "      <td>11</td>\n",
       "    </tr>\n",
       "    <tr>\n",
       "      <th>2</th>\n",
       "      <td>GP</td>\n",
       "      <td>F</td>\n",
       "      <td>15</td>\n",
       "      <td>U</td>\n",
       "      <td>LE3</td>\n",
       "      <td>T</td>\n",
       "      <td>1</td>\n",
       "      <td>1</td>\n",
       "      <td>at_home</td>\n",
       "      <td>other</td>\n",
       "      <td>...</td>\n",
       "      <td>4</td>\n",
       "      <td>3</td>\n",
       "      <td>2</td>\n",
       "      <td>2</td>\n",
       "      <td>3</td>\n",
       "      <td>3</td>\n",
       "      <td>6</td>\n",
       "      <td>12</td>\n",
       "      <td>13</td>\n",
       "      <td>12</td>\n",
       "    </tr>\n",
       "    <tr>\n",
       "      <th>3</th>\n",
       "      <td>GP</td>\n",
       "      <td>F</td>\n",
       "      <td>15</td>\n",
       "      <td>U</td>\n",
       "      <td>GT3</td>\n",
       "      <td>T</td>\n",
       "      <td>4</td>\n",
       "      <td>2</td>\n",
       "      <td>health</td>\n",
       "      <td>services</td>\n",
       "      <td>...</td>\n",
       "      <td>3</td>\n",
       "      <td>2</td>\n",
       "      <td>2</td>\n",
       "      <td>1</td>\n",
       "      <td>1</td>\n",
       "      <td>5</td>\n",
       "      <td>0</td>\n",
       "      <td>14</td>\n",
       "      <td>14</td>\n",
       "      <td>14</td>\n",
       "    </tr>\n",
       "    <tr>\n",
       "      <th>4</th>\n",
       "      <td>GP</td>\n",
       "      <td>F</td>\n",
       "      <td>16</td>\n",
       "      <td>U</td>\n",
       "      <td>GT3</td>\n",
       "      <td>T</td>\n",
       "      <td>3</td>\n",
       "      <td>3</td>\n",
       "      <td>other</td>\n",
       "      <td>other</td>\n",
       "      <td>...</td>\n",
       "      <td>4</td>\n",
       "      <td>3</td>\n",
       "      <td>2</td>\n",
       "      <td>1</td>\n",
       "      <td>2</td>\n",
       "      <td>5</td>\n",
       "      <td>0</td>\n",
       "      <td>11</td>\n",
       "      <td>13</td>\n",
       "      <td>13</td>\n",
       "    </tr>\n",
       "  </tbody>\n",
       "</table>\n",
       "<p>5 rows × 33 columns</p>\n",
       "</div>"
      ],
      "text/plain": [
       "  school sex  age address famsize Pstatus  Medu  Fedu     Mjob      Fjob  ...  \\\n",
       "0     GP   F   18       U     GT3       A     4     4  at_home   teacher  ...   \n",
       "1     GP   F   17       U     GT3       T     1     1  at_home     other  ...   \n",
       "2     GP   F   15       U     LE3       T     1     1  at_home     other  ...   \n",
       "3     GP   F   15       U     GT3       T     4     2   health  services  ...   \n",
       "4     GP   F   16       U     GT3       T     3     3    other     other  ...   \n",
       "\n",
       "  famrel freetime  goout  Dalc  Walc health absences  G1  G2  G3  \n",
       "0      4        3      4     1     1      3        4   0  11  11  \n",
       "1      5        3      3     1     1      3        2   9  11  11  \n",
       "2      4        3      2     2     3      3        6  12  13  12  \n",
       "3      3        2      2     1     1      5        0  14  14  14  \n",
       "4      4        3      2     1     2      5        0  11  13  13  \n",
       "\n",
       "[5 rows x 33 columns]"
      ]
     },
     "execution_count": 52,
     "metadata": {},
     "output_type": "execute_result"
    }
   ],
   "source": [
    "# Read in data from CSV-file\n",
    "df = pd.read_csv('student-por.csv', sep=';')\n",
    "\n",
    "# Print overview of DataFrame\n",
    "df.head()"
   ]
  },
  {
   "cell_type": "code",
   "execution_count": 44,
   "metadata": {},
   "outputs": [
    {
     "data": {
      "image/png": "[encoded data removed]",
      "text/plain": [
       "<Figure size 640x480 with 1 Axes>"
      ]
     },
     "metadata": {},
     "output_type": "display_data"
    },
    {
     "data": {
      "text/plain": [
       "count    649.000000\n",
       "mean      11.906009\n",
       "std        3.230656\n",
       "min        0.000000\n",
       "10%        8.800000\n",
       "50%       12.000000\n",
       "90%       16.000000\n",
       "max       19.000000\n",
       "Name: G3, dtype: float64"
      ]
     },
     "execution_count": 44,
     "metadata": {},
     "output_type": "execute_result"
    }
   ],
   "source": [
    "# Visualize final G3 grade distribution (0 to 20)\n",
    "bins = np.arange(21) - 0.5\n",
    "plt.hist(df['G3'], bins)\n",
    "plt.xticks(range(21))\n",
    "plt.xlim([-1, 21])\n",
    "plt.xlabel('Final Grade')\n",
    "plt.ylabel('Number of Students')\n",
    "plt.show()\n",
    "\n",
    "# Print descriptive statistics\n",
    "df[\"G3\"].describe(percentiles=[0.10, 0.5, 0.9])"
   ]
  },
  {
   "attachments": {},
   "cell_type": "markdown",
   "metadata": {},
   "source": [
    "# Supervised Learning (Naive Bayes Classifier from lab 5)"
   ]
  },
  {
   "cell_type": "code",
   "execution_count": null,
   "metadata": {},
   "outputs": [
    {
     "name": "stdout",
     "output_type": "stream",
     "text": [
      "G3 values BEFORE redefinition\n",
      "11\n",
      "16\n",
      "G3 values AFTER redefinition\n",
      "0\n",
      "1\n"
     ]
    },
    {
     "name": "stderr",
     "output_type": "stream",
     "text": [
      "/var/folders/kz/gmfk11mx34b1pg8svy4qw8340000gn/T/ipykernel_5267/2074443286.py:11: SettingWithCopyWarning: \n",
      "A value is trying to be set on a copy of a slice from a DataFrame\n",
      "\n",
      "See the caveats in the documentation: https://pandas.pydata.org/pandas-docs/stable/user_guide/indexing.html#returning-a-view-versus-a-copy\n",
      "  df[\"G3\"][i] = 0\n",
      "/var/folders/kz/gmfk11mx34b1pg8svy4qw8340000gn/T/ipykernel_5267/2074443286.py:13: SettingWithCopyWarning: \n",
      "A value is trying to be set on a copy of a slice from a DataFrame\n",
      "\n",
      "See the caveats in the documentation: https://pandas.pydata.org/pandas-docs/stable/user_guide/indexing.html#returning-a-view-versus-a-copy\n",
      "  df[\"G3\"][i] = 1\n"
     ]
    }
   ],
   "source": [
    "# Redefine target column G3 as one of two classes, 0 for a score under the\n",
    "# 90th-percentileof G3 grades and 1 for a score equal to or above it.\n",
    "\n",
    "\n",
    "print(\"G3 values BEFORE redefinition\")\n",
    "print(df[\"G3\"][0])\n",
    "print(df[\"G3\"][645])\n",
    "\n",
    "for i in range(648+1):\n",
    "    if df[\"G3\"][i] < 16:  # If grade score is below 16, let this student's grade be represented as class 0.\n",
    "        df[\"G3\"][i] = 0\n",
    "    else:\n",
    "        df[\"G3\"][i] = 1\n",
    "\n",
    "print(\"G3 values AFTER redefinition\")\n",
    "print(df[\"G3\"][0])\n",
    "print(df[\"G3\"][645])\n",
    "\n",
    "#Remove warnings\n",
    "import warnings\n",
    "warnings.filterwarnings('ignore')\n"
   ]
  },
  {
   "attachments": {},
   "cell_type": "markdown",
   "metadata": {},
   "source": [
    "Classifier *without* G1 and G2"
   ]
  },
  {
   "cell_type": "code",
   "execution_count": 46,
   "metadata": {},
   "outputs": [],
   "source": [
    "# Prepare the dataset for training by dropping G1 and G2, encoding categorical columns and combining with the numerical columns.\n",
    "\n",
    "# Specify which features are categorical and which are numerical\n",
    "categorical_columns = [\"school\", \"sex\", \"address\", \"famsize\", \"Pstatus\", \"Mjob\", \"Fjob\", \"reason\", \"guardian\", \"schoolsup\", \"famsup\", \"paid\", \"activities\", \"nursery\", \"higher\", \"internet\", \"romantic\"]\n",
    "numerical_columns = [\"age\", \"Medu\", \"Fedu\", \"traveltime\", \"studytime\", \"failures\", \"famrel\", \"freetime\", \"goout\", \"Dalc\", \"Walc\", \"health\", \"absences\"]\n",
    "\n",
    "# Drop G1 and G2 since we don't want to train the model on previous academic performance.\n",
    "all_training_data = df.drop([\"G2\", \"G1\"],axis=1)\n",
    "\n",
    "# Encode the categorical columns\n",
    "training_data_encoded = pd.DataFrame()\n",
    "for col in categorical_columns:\n",
    "  LE = LabelEncoder()\n",
    "  dt = LE.fit_transform(all_training_data[col])\n",
    "  training_data_encoded[col] = dt\n",
    "\n",
    "# Combine with the numerical columns\n",
    "for col in numerical_columns:\n",
    "  training_data_encoded[col] = all_training_data[col]\n",
    "\n",
    "# Add in the encoded target column (G3)\n",
    "LE = LabelEncoder()\n",
    "training_data_encoded['G3'] = LE.fit_transform(all_training_data['G3'])\n"
   ]
  },
  {
   "cell_type": "code",
   "execution_count": 50,
   "metadata": {},
   "outputs": [
    {
     "name": "stdout",
     "output_type": "stream",
     "text": [
      "Average accuracy after 1000 runs: 0.6938615384615382\n",
      "Median accuracy after 1000 runs: 0.8307692307692308\n",
      "Min accuracy after 1000 runs: 0.28205128205128205\n",
      "Max accuracy after 1000 runs: 0.8871794871794871\n",
      "Average F1-score after 1000 runs: 0.2934224565997909\n",
      "Median F1-score after 1000 runs: 0.29787234042553196\n",
      "Min F1-score after 1000 runs: 0.09090909090909093\n",
      "Max F1-score after 1000 runs: 0.5217391304347826\n"
     ]
    }
   ],
   "source": [
    "# Split data and train two Naive Bayes classifiers, one categorical and one numerical.\n",
    "\n",
    "def split_train_pred():\n",
    "    trainingSet, testSet = train_test_split(training_data_encoded, test_size=0.3)\n",
    "\n",
    "    cnb = CategoricalNB(fit_prior=False)\n",
    "    gnb = GaussianNB()\n",
    "\n",
    "    cnb.fit(trainingSet.filter(categorical_columns, axis=1), trainingSet['G3'])\n",
    "    logP_categorical = cnb.predict_log_proba(testSet.filter(categorical_columns, axis=1))\n",
    "\n",
    "    gnb.fit(trainingSet.filter(numerical_columns, axis=1), trainingSet['G3'])\n",
    "    logP_numerical = gnb.predict_log_proba(testSet.filter(numerical_columns, axis=1))\n",
    "    \n",
    "    # estimate prior\n",
    "    probclass0 = np.sum(trainingSet['G3']==0)/len(trainingSet['G3'])\n",
    "\n",
    "    logP = logP_categorical + logP_numerical + np.log([probclass0,1-probclass0])\n",
    "    \n",
    "    predictions = np.argmax(logP,axis=1)\n",
    "\n",
    "    accuracy = sum(predictions==testSet['G3'])/testSet.shape[0]\n",
    "    f1 = f1_score(testSet[\"G3\"], predictions)\n",
    "\n",
    "    return accuracy, f1\n",
    "\n",
    "accuracies = []\n",
    "sum_accuracies = 0\n",
    "\n",
    "f1_scores = []\n",
    "sum_f1 = 0\n",
    "\n",
    "iterations = 1000\n",
    "for i in range(iterations):\n",
    "    acc, f1 = split_train_pred()\n",
    "    accuracies.append(acc)\n",
    "    sum_accuracies += acc\n",
    "\n",
    "    f1_scores.append(f1)\n",
    "    sum_f1 += f1\n",
    "\n",
    "avg_accuracy = sum_accuracies/iterations\n",
    "med_accuracy = accuracies[int(len(accuracies)/2)]\n",
    "min_accuracy = min(accuracies)\n",
    "max_accuracy = max(accuracies)\n",
    "print(f\"Average accuracy after {iterations} runs: {avg_accuracy}\")\n",
    "print(f\"Median accuracy after {iterations} runs: {med_accuracy}\")\n",
    "print(f\"Min accuracy after {iterations} runs: {min_accuracy}\")\n",
    "print(f\"Max accuracy after {iterations} runs: {max_accuracy}\")\n",
    "\n",
    "avg_f1 = sum_f1/iterations\n",
    "med_f1 = f1_scores[int(len(f1_scores)/2)]\n",
    "min_f1 = min(f1_scores)\n",
    "max_f1 = max(f1_scores)\n",
    "print(f\"Average F1-score after {iterations} runs: {avg_f1}\")\n",
    "print(f\"Median F1-score after {iterations} runs: {med_f1}\")\n",
    "print(f\"Min F1-score after {iterations} runs: {min_f1}\")\n",
    "print(f\"Max F1-score after {iterations} runs: {max_f1}\")\n"
   ]
  },
  {
   "attachments": {},
   "cell_type": "markdown",
   "metadata": {},
   "source": [
    "Classifier *with* G1 and G2"
   ]
  },
  {
   "cell_type": "code",
   "execution_count": 62,
   "metadata": {},
   "outputs": [
    {
     "name": "stdout",
     "output_type": "stream",
     "text": [
      "G3 values BEFORE redefinition\n",
      "11\n",
      "16\n",
      "G3 values AFTER redefinition\n",
      "0\n",
      "1\n"
     ]
    },
    {
     "name": "stderr",
     "output_type": "stream",
     "text": [
      "/var/folders/kz/gmfk11mx34b1pg8svy4qw8340000gn/T/ipykernel_5267/2438713741.py:15: SettingWithCopyWarning: \n",
      "A value is trying to be set on a copy of a slice from a DataFrame\n",
      "\n",
      "See the caveats in the documentation: https://pandas.pydata.org/pandas-docs/stable/user_guide/indexing.html#returning-a-view-versus-a-copy\n",
      "  df[\"G3\"][i] = 0\n",
      "/var/folders/kz/gmfk11mx34b1pg8svy4qw8340000gn/T/ipykernel_5267/2438713741.py:17: SettingWithCopyWarning: \n",
      "A value is trying to be set on a copy of a slice from a DataFrame\n",
      "\n",
      "See the caveats in the documentation: https://pandas.pydata.org/pandas-docs/stable/user_guide/indexing.html#returning-a-view-versus-a-copy\n",
      "  df[\"G3\"][i] = 1\n"
     ]
    }
   ],
   "source": [
    "# Recreate original variables\n",
    "\n",
    "# Read in data from CSV-file\n",
    "df = pd.read_csv('student-por.csv', sep=';')\n",
    "\n",
    "# Redefine target column G3 as one of two classes, 0 for a score under the\n",
    "# 90th-percentileof G3 grades and 1 for a score equal to or above it.\n",
    "\n",
    "print(\"G3 values BEFORE redefinition\")\n",
    "print(df[\"G3\"][0])\n",
    "print(df[\"G3\"][645])\n",
    "\n",
    "for i in range(648+1):\n",
    "    if df[\"G3\"][i] < 16:  # If grade score is below 16, let this student's grade be represented as class 0.\n",
    "        df[\"G3\"][i] = 0\n",
    "    else:\n",
    "        df[\"G3\"][i] = 1\n",
    "\n",
    "print(\"G3 values AFTER redefinition\")\n",
    "print(df[\"G3\"][0])\n",
    "print(df[\"G3\"][645])"
   ]
  },
  {
   "cell_type": "code",
   "execution_count": 65,
   "metadata": {},
   "outputs": [],
   "source": [
    "# Prepare the dataset for training by dropping G1 and G2, encoding categorical columns and combining with the numerical columns.\n",
    "\n",
    "# Specify which features are categorical and which are numerical\n",
    "categorical_columns = [\"school\", \"sex\", \"address\", \"famsize\", \"Pstatus\", \"Mjob\", \"Fjob\", \"reason\", \"guardian\", \"schoolsup\", \"famsup\", \"paid\", \"activities\", \"nursery\", \"higher\", \"internet\", \"romantic\"]\n",
    "numerical_columns = [\"age\", \"Medu\", \"Fedu\", \"traveltime\", \"studytime\", \"failures\", \"famrel\", \"freetime\", \"goout\", \"Dalc\", \"Walc\", \"health\", \"absences\", \"G1\", \"G2\"]\n",
    "\n",
    "all_training_data = df\n",
    "\n",
    "# Encode the categorical columns\n",
    "training_data_encoded = pd.DataFrame()\n",
    "for col in categorical_columns:\n",
    "  LE = LabelEncoder()\n",
    "  dt = LE.fit_transform(all_training_data[col])\n",
    "  training_data_encoded[col] = dt\n",
    "\n",
    "# Combine with the numerical columns\n",
    "for col in numerical_columns:\n",
    "  training_data_encoded[col] = all_training_data[col]\n",
    "\n",
    "# Add in the encoded target column (G3)\n",
    "LE = LabelEncoder()\n",
    "training_data_encoded['G3'] = LE.fit_transform(all_training_data['G3'])\n"
   ]
  },
  {
   "cell_type": "code",
   "execution_count": 66,
   "metadata": {},
   "outputs": [
    {
     "name": "stdout",
     "output_type": "stream",
     "text": [
      "Average accuracy after 1000 runs: 0.8815641025640986\n",
      "Median accuracy after 1000 runs: 0.8153846153846154\n",
      "Min accuracy after 1000 runs: 0.676923076923077\n",
      "Max accuracy after 1000 runs: 0.9846153846153847\n",
      "Average F1-score after 1000 runs: 0.6836374128970302\n",
      "Median F1-score after 1000 runs: 0.5135135135135135\n",
      "Min F1-score after 1000 runs: 0.33333333333333337\n",
      "Max F1-score after 1000 runs: 0.9433962264150944\n"
     ]
    }
   ],
   "source": [
    "# Split data and train two Naive Bayes classifiers, one categorical and one numerical.\n",
    "\n",
    "def split_train_pred():\n",
    "    trainingSet, testSet = train_test_split(training_data_encoded, test_size=0.3)\n",
    "\n",
    "    cnb = CategoricalNB(fit_prior=False)\n",
    "    gnb = GaussianNB()\n",
    "\n",
    "    cnb.fit(trainingSet.filter(categorical_columns, axis=1), trainingSet['G3'])\n",
    "    logP_categorical = cnb.predict_log_proba(testSet.filter(categorical_columns, axis=1))\n",
    "\n",
    "    gnb.fit(trainingSet.filter(numerical_columns, axis=1), trainingSet['G3'])\n",
    "    logP_numerical = gnb.predict_log_proba(testSet.filter(numerical_columns, axis=1))\n",
    "    \n",
    "    # estimate prior\n",
    "    probclass0 = np.sum(trainingSet['G3']==0)/len(trainingSet['G3'])\n",
    "\n",
    "    logP = logP_categorical + logP_numerical + np.log([probclass0,1-probclass0])\n",
    "    \n",
    "    predictions = np.argmax(logP,axis=1)\n",
    "\n",
    "    accuracy = sum(predictions==testSet['G3'])/testSet.shape[0]\n",
    "    f1 = f1_score(testSet[\"G3\"], predictions)\n",
    "\n",
    "    return accuracy, f1\n",
    "\n",
    "accuracies = []\n",
    "sum_accuracies = 0\n",
    "\n",
    "f1_scores = []\n",
    "sum_f1 = 0\n",
    "\n",
    "iterations = 1000\n",
    "for i in range(iterations):\n",
    "    acc, f1 = split_train_pred()\n",
    "    accuracies.append(acc)\n",
    "    sum_accuracies += acc\n",
    "\n",
    "    f1_scores.append(f1)\n",
    "    sum_f1 += f1\n",
    "\n",
    "avg_accuracy = sum_accuracies/iterations\n",
    "med_accuracy = accuracies[int(len(accuracies)/2)]\n",
    "min_accuracy = min(accuracies)\n",
    "max_accuracy = max(accuracies)\n",
    "print(f\"Average accuracy after {iterations} runs: {avg_accuracy}\")\n",
    "print(f\"Median accuracy after {iterations} runs: {med_accuracy}\")\n",
    "print(f\"Min accuracy after {iterations} runs: {min_accuracy}\")\n",
    "print(f\"Max accuracy after {iterations} runs: {max_accuracy}\")\n",
    "\n",
    "avg_f1 = sum_f1/iterations\n",
    "med_f1 = f1_scores[int(len(f1_scores)/2)]\n",
    "min_f1 = min(f1_scores)\n",
    "max_f1 = max(f1_scores)\n",
    "print(f\"Average F1-score after {iterations} runs: {avg_f1}\")\n",
    "print(f\"Median F1-score after {iterations} runs: {med_f1}\")\n",
    "print(f\"Min F1-score after {iterations} runs: {min_f1}\")\n",
    "print(f\"Max F1-score after {iterations} runs: {max_f1}\")\n"
   ]
  },
  {
   "attachments": {},
   "cell_type": "markdown",
   "metadata": {},
   "source": [
    "---\n",
    "# Discussion\n",
    "\n"
   ]
  },
  {
   "cell_type": "markdown",
   "metadata": {},
   "source": [
    "## Acknowledgments\n",
    "\n",
    "For each group member, describe what they did."
   ]
  },
  {
   "cell_type": "markdown",
   "metadata": {},
   "source": [
    "## Final meme\n",
    "\n",
    "Include here a meme describing your experience in this module."
   ]
  },
  {
   "cell_type": "code",
   "execution_count": null,
   "metadata": {},
   "outputs": [],
   "source": []
  }
 ],
 "metadata": {
  "kernelspec": {
   "display_name": "Python 3",
   "language": "python",
   "name": "python3"
  },
  "language_info": {
   "codemirror_mode": {
    "name": "ipython",
    "version": 3
   },
   "file_extension": ".py",
   "mimetype": "text/x-python",
   "name": "python",
   "nbconvert_exporter": "python",
   "pygments_lexer": "ipython3",
   "version": "3.10.2"
  }
 },
 "nbformat": 4,
 "nbformat_minor": 4
}
